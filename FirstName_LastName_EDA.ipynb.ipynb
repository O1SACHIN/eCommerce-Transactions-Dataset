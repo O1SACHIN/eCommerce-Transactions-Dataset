{
 "cells": [
  {
   "cell_type": "code",
   "execution_count": null,
   "id": "d2410af6-8034-47a7-9caa-bcdec1967316",
   "metadata": {},
   "outputs": [],
   "source": [
    "# Task 1: Exploratory Data Analysis (EDA) and Business Insights,"
   ]
  },
  {
   "cell_type": "code",
   "execution_count": 2,
   "id": "3dd2d136-c99c-4c9d-8812-08f3c8a3f4b8",
   "metadata": {},
   "outputs": [],
   "source": [
    "import pandas as pd\n",
    "customer_file = (r\"C:\\Users\\sachu\\Downloads\\OneDrive\\Customers.csv\")  # Replace with your file path\n",
    "df = pd.read_csv(customer_file)\n",
    "\n"
   ]
  },
  {
   "cell_type": "code",
   "execution_count": null,
   "id": "f5f196b2-e014-4faf-b452-3b1f8c1fa2b3",
   "metadata": {},
   "outputs": [],
   "source": [
    "df.head()"
   ]
  },
  {
   "cell_type": "code",
   "execution_count": 3,
   "id": "a70c8f00-b7b4-43ca-abad-027126f3748a",
   "metadata": {},
   "outputs": [
    {
     "name": "stdout",
     "output_type": "stream",
     "text": [
      "<class 'pandas.core.frame.DataFrame'>\n",
      "RangeIndex: 200 entries, 0 to 199\n",
      "Data columns (total 4 columns):\n",
      " #   Column        Non-Null Count  Dtype \n",
      "---  ------        --------------  ----- \n",
      " 0   CustomerID    200 non-null    object\n",
      " 1   CustomerName  200 non-null    object\n",
      " 2   Region        200 non-null    object\n",
      " 3   SignupDate    200 non-null    object\n",
      "dtypes: object(4)\n",
      "memory usage: 6.4+ KB\n"
     ]
    }
   ],
   "source": [
    "df.info()"
   ]
  },
  {
   "cell_type": "code",
   "execution_count": null,
   "id": "6e4317e7-b962-4269-8807-0b2e4dd8af68",
   "metadata": {},
   "outputs": [],
   "source": [
    "df.isnull()"
   ]
  },
  {
   "cell_type": "code",
   "execution_count": null,
   "id": "a0b954da-205c-4e87-839c-7199f39aa59a",
   "metadata": {},
   "outputs": [],
   "source": [
    "# Remove duplicate rows\n",
    "df = df.drop_duplicates()\n",
    "#print(f\"Shape after removing duplicates: {df.shape}\")\n"
   ]
  },
  {
   "cell_type": "code",
   "execution_count": null,
   "id": "86e1245e-35c0-4f65-a072-efe02915fd33",
   "metadata": {},
   "outputs": [],
   "source": [
    "print(f\"Shape after removing duplicates: {df.shape}\")"
   ]
  },
  {
   "cell_type": "code",
   "execution_count": null,
   "id": "b7259a48-39ac-4e76-bdc4-b0c0bc70d409",
   "metadata": {},
   "outputs": [],
   "source": [
    "# Check for missing values in the entire DataFrame\n",
    "missing_values = df.isnull().sum()\n",
    "print(missing_values)"
   ]
  },
  {
   "cell_type": "code",
   "execution_count": null,
   "id": "2ee44806-c1e6-4ea6-8c79-9baa6ab27d01",
   "metadata": {},
   "outputs": [],
   "source": [
    "customer_file = pd.Series(customer_file)"
   ]
  },
  {
   "cell_type": "code",
   "execution_count": null,
   "id": "2bad3c81-3189-4f41-8890-3126d29ef946",
   "metadata": {},
   "outputs": [],
   "source": [
    "type(customer_file)"
   ]
  },
  {
   "cell_type": "code",
   "execution_count": null,
   "id": "3a5f6062-0066-49ad-a0fa-ead3e9b470a1",
   "metadata": {},
   "outputs": [],
   "source": [
    "\n",
    "# Save the cleaned dataset\n",
    "df.to_csv('Cleaned_Customers.csv', index=False)\n"
   ]
  },
  {
   "cell_type": "code",
   "execution_count": null,
   "id": "b1574d1d-5602-4b84-af5d-b899744c5a8c",
   "metadata": {},
   "outputs": [],
   "source": [
    "import pandas as pd\n",
    "products_file = (r\"C:\\Users\\sachu\\Downloads\\OneDrive\\Products.csv\") \n",
    "df = pd.read_csv(products_file)"
   ]
  },
  {
   "cell_type": "code",
   "execution_count": null,
   "id": "26813a46-f3dd-4e91-9543-c33eb709de4f",
   "metadata": {},
   "outputs": [],
   "source": [
    "print(df)"
   ]
  },
  {
   "cell_type": "code",
   "execution_count": null,
   "id": "14ea9766-23dd-4679-a9a2-0961c8ceaa43",
   "metadata": {},
   "outputs": [],
   "source": [
    "df.head()"
   ]
  },
  {
   "cell_type": "code",
   "execution_count": null,
   "id": "5bb0c873-64ef-4c06-bd3f-73e744bd54b7",
   "metadata": {},
   "outputs": [],
   "source": [
    "df.isnull()"
   ]
  },
  {
   "cell_type": "code",
   "execution_count": null,
   "id": "3794f2b8-2d2f-4502-9821-07e72360c50a",
   "metadata": {},
   "outputs": [],
   "source": [
    "df.duplicated()"
   ]
  },
  {
   "cell_type": "code",
   "execution_count": null,
   "id": "568cdb67-6754-4bdd-a121-a5bff0d30689",
   "metadata": {},
   "outputs": [],
   "source": [
    "# Save the cleaned dataset\n",
    "df.to_csv('Cleaned_products.csv', index=False)"
   ]
  },
  {
   "cell_type": "code",
   "execution_count": null,
   "id": "c1bd8a79-c1de-4a37-ac06-b9a5d105b2f4",
   "metadata": {},
   "outputs": [],
   "source": [
    "# transaction file\n",
    "import pandas as pd \n",
    "transaction_file = (r\"C:\\Users\\sachu\\Downloads\\OneDrive\\Transactions.csv\")"
   ]
  },
  {
   "cell_type": "code",
   "execution_count": 1,
   "id": "e51bafe9-22d6-45c5-ae1f-29fa9ae960a1",
   "metadata": {},
   "outputs": [
    {
     "ename": "NameError",
     "evalue": "name 'pd' is not defined",
     "output_type": "error",
     "traceback": [
      "\u001b[1;31m---------------------------------------------------------------------------\u001b[0m",
      "\u001b[1;31mNameError\u001b[0m                                 Traceback (most recent call last)",
      "Cell \u001b[1;32mIn[1], line 1\u001b[0m\n\u001b[1;32m----> 1\u001b[0m df \u001b[38;5;241m=\u001b[39m \u001b[43mpd\u001b[49m\u001b[38;5;241m.\u001b[39mread_csv(transaction_file)\n",
      "\u001b[1;31mNameError\u001b[0m: name 'pd' is not defined"
     ]
    }
   ],
   "source": [
    "df = pd.read_csv(transaction_file)"
   ]
  },
  {
   "cell_type": "code",
   "execution_count": null,
   "id": "3b282066-5602-4143-89c6-e35f645bc96a",
   "metadata": {},
   "outputs": [],
   "source": [
    "print(df)"
   ]
  },
  {
   "cell_type": "code",
   "execution_count": null,
   "id": "a96d6399-a122-4914-a05a-ca174a7c78f0",
   "metadata": {},
   "outputs": [],
   "source": [
    "df.head()"
   ]
  },
  {
   "cell_type": "code",
   "execution_count": null,
   "id": "fd0ec0b2-ad1d-4880-9aa8-8c12d4e53284",
   "metadata": {},
   "outputs": [],
   "source": [
    "df.duplicated()"
   ]
  },
  {
   "cell_type": "code",
   "execution_count": null,
   "id": "c527598b-e00e-4266-a82d-f15969a2e37f",
   "metadata": {
    "scrolled": true
   },
   "outputs": [],
   "source": [
    "df.isnull()"
   ]
  },
  {
   "cell_type": "code",
   "execution_count": null,
   "id": "329f8a3b-4997-4e83-aed4-1ec7cb6cab55",
   "metadata": {},
   "outputs": [],
   "source": [
    "# Check for missing values in the entire DataFrame\n",
    "missing_values = df.isnull().sum()"
   ]
  },
  {
   "cell_type": "code",
   "execution_count": null,
   "id": "2050c866-1099-4a53-b306-235dbf53be68",
   "metadata": {},
   "outputs": [],
   "source": [
    "print(missing_values)"
   ]
  },
  {
   "cell_type": "code",
   "execution_count": null,
   "id": "10517e7a-7394-4033-8fa4-e7c00306f8c4",
   "metadata": {},
   "outputs": [],
   "source": [
    "df.to_csv(\"cleaned_transcation.csv\" ,index = False )"
   ]
  },
  {
   "cell_type": "code",
   "execution_count": null,
   "id": "869b324e-35cb-4bb5-83c4-5fb76ad0a25b",
   "metadata": {},
   "outputs": [],
   "source": [
    "# first insights is \n"
   ]
  },
  {
   "cell_type": "code",
   "execution_count": null,
   "id": "a1f39724-a835-4ad8-b7b5-f4b80a4e1b9f",
   "metadata": {},
   "outputs": [],
   "source": [
    "import pandas as pd\n",
    "import matplotlib.pyplot as plt\n",
    "import seaborn as sns\n"
   ]
  },
  {
   "cell_type": "code",
   "execution_count": null,
   "id": "c0afe54c-b077-44c4-8bab-84e5b0e10853",
   "metadata": {},
   "outputs": [],
   "source": [
    "customers = pd.read_csv('Cleaned_Customers.csv')  \n",
    "products = pd.read_csv('Cleaned_products.csv')\n",
    "transactions = pd.read_csv('cleaned_transcation.csv' )\n"
   ]
  },
  {
   "cell_type": "code",
   "execution_count": null,
   "id": "d82e1d27-2bab-4775-90af-5ad2f5a07d2f",
   "metadata": {},
   "outputs": [],
   "source": [
    "transactions_products = pd.merge(transactions, products, on='ProductID', how='left')\n",
    "merged_data = pd.merge(transactions_products, customers, on='CustomerID', how='left')\n"
   ]
  },
  {
   "cell_type": "code",
   "execution_count": null,
   "id": "0051669e-4556-41ca-8e73-82f5fe9a7093",
   "metadata": {},
   "outputs": [],
   "source": [
    "# Analyze the Most Selling Region"
   ]
  },
  {
   "cell_type": "code",
   "execution_count": null,
   "id": "8c616b63-9db9-447b-ab92-e92c59aee16a",
   "metadata": {},
   "outputs": [],
   "source": [
    "region_sales = merged_data.groupby('Region')['TotalValue'].sum().sort_values(ascending=False)\n",
    "print(region_sales)\n",
    "# Visualization\n",
    "plt.figure(figsize=(5,5))\n",
    "sns.barplot(x=region_sales.index, y=region_sales.values,)\n",
    "plt.title('Total Sales by Region')\n",
    "plt.ylabel('Total Sales (rs)')\n",
    "plt.xlabel('Region')\n",
    "plt.show()\n"
   ]
  },
  {
   "cell_type": "code",
   "execution_count": null,
   "id": "9aeecae7-25c5-4f40-93cc-05bfbee8d7a0",
   "metadata": {},
   "outputs": [],
   "source": [
    "# Calculate product sales\n",
    "product_sales = merged_data.groupby('ProductName')['Quantity'].sum().sort_values(ascending=False).head(10)"
   ]
  },
  {
   "cell_type": "code",
   "execution_count": null,
   "id": "23490111-3f54-4a92-9bdd-2c3f83a1f22a",
   "metadata": {},
   "outputs": [],
   "source": [
    "category_sales = merged_data.groupby('Category')['TotalValue'].sum().sort_values(ascending=False)\n",
    "print(category_sales)\n",
    "\n",
    "# Visualization\n",
    "plt.figure(figsize=(8, 6))\n",
    "sns.barplot(x=category_sales.values, y=category_sales.index, palette='magma')\n",
    "plt.title('Total Sales by Category')\n",
    "plt.xlabel('Total Sales (rs)')\n",
    "plt.ylabel('Category')\n",
    "plt.show()\n"
   ]
  },
  {
   "cell_type": "code",
   "execution_count": null,
   "id": "ce3d6753-fcbf-4e62-914b-0682f195b7d8",
   "metadata": {},
   "outputs": [],
   "source": [
    "import matplotlib.pyplot as plt\n",
    "# Combine results into a summary table\n",
    "top_region = region_sales.idxmax()\n",
    "top_region_sales = region_sales.max()\n",
    "\n",
    "top_product = product_sales.idxmax()\n",
    "top_product_quantity = product_sales.max()\n",
    "\n",
    "top_category = category_sales.idxmax()\n",
    "top_category_sales = category_sales.max()\n",
    "\n",
    "# Prepare data for visualization\n",
    "summary_labels = ['Top Region', 'Top Product', 'Top Category']\n",
    "summary_values = [top_region_sales, top_product_quantity, top_category_sales]\n",
    "\n",
    "# Visualization as a pie chart\n",
    "plt.figure(figsize=(5,5))\n",
    "plt.pie(\n",
    "    summary_values, \n",
    "    labels=[f\"{summary_labels[0]}: {top_region}\", \n",
    "            f\"{summary_labels[1]}: {top_product}\", \n",
    "            f\"{summary_labels[2]}: {top_category}\"],\n",
    "    autopct='%1.1f%%',\n",
    "    startangle=90,\n",
    "    colors=['#66c2a5', '#fc8d62', '#8da0cb']\n",
    ")\n",
    "plt.title('Top Region, Product, and Category Performance')\n",
    "plt.show()\n"
   ]
  },
  {
   "cell_type": "markdown",
   "id": "cd9a7ffa-138a-47b5-9bc9-bd08daf8d67d",
   "metadata": {},
   "source": [
    "# 1 business insight \n",
    "South America contributes the highest revenue, accounting for 53.7% of total sales.\n",
    "\n",
    "Category Insights:\n",
    "The Books category dominates sales, contributing 46.7% of total revenue.\n",
    "\n",
    "Product Insights:\n",
    "The top-selling product is the Active Wear Smartwatch, the most popular item among customers."
   ]
  },
  {
   "cell_type": "code",
   "execution_count": null,
   "id": "94aa8416-6461-499d-a633-847f46f04a5e",
   "metadata": {},
   "outputs": [],
   "source": []
  },
  {
   "cell_type": "code",
   "execution_count": null,
   "id": "26684276-daa1-44a7-8f50-095e25c3247d",
   "metadata": {},
   "outputs": [],
   "source": []
  },
  {
   "cell_type": "code",
   "execution_count": null,
   "id": "433ebb01-a7ac-43f9-a078-83e81f59cf47",
   "metadata": {},
   "outputs": [],
   "source": []
  },
  {
   "cell_type": "code",
   "execution_count": null,
   "id": "054ee03f-0042-427a-bf65-71b07c8cb3d1",
   "metadata": {},
   "outputs": [],
   "source": [
    "import pandas as pd\n",
    "merged_data['TransactionDate'] = pd.to_datetime(merged_data['TransactionDate'])\n",
    "merged_data['Month'] = merged_data['TransactionDate'].dt.month\n",
    "merged_data['Hour'] = merged_data['TransactionDate'].dt.hour\n"
   ]
  },
  {
   "cell_type": "code",
   "execution_count": null,
   "id": "c0426032-e7fa-4498-a075-09abd4e430e7",
   "metadata": {},
   "outputs": [],
   "source": [
    "#  Analyze Monthly Trends \n",
    "monthly_sales = merged_data.groupby('Month')['TotalValue'].sum().sort_values(ascending=False)\n",
    "print(monthly_sales)\n",
    "\n",
    "# Visualization\n",
    "plt.figure(figsize=(10, 6))\n",
    "sns.barplot(x=monthly_sales.index, y=monthly_sales.values, palette='coolwarm')\n",
    "plt.title('Total Sales by Month')\n",
    "plt.xlabel('Month')\n",
    "plt.ylabel('Total Sales (rs)')\n",
    "plt.xticks(ticks=range(0, 12), labels=['Jan', 'Feb', 'Mar', 'Apr', 'May', 'Jun', \n",
    "                                       'Jul', 'Aug', 'Sep', 'Oct', 'Nov', 'Dec'])\n",
    "plt.show()\n"
   ]
  },
  {
   "cell_type": "code",
   "execution_count": null,
   "id": "dee71a6f-6e5a-4c98-8661-0187d6e41c84",
   "metadata": {
    "scrolled": true
   },
   "outputs": [],
   "source": [
    "# anlyze hourly trend\n",
    "hourly_sales = merged_data.groupby('Hour')['TotalValue'].sum().sort_values(ascending=False)\n",
    "print(hourly_sales)\n",
    "\n",
    "# Visualization\n",
    "plt.figure(figsize=(10, 6))\n",
    "sns.barplot(x=hourly_sales.index, y=hourly_sales.values, palette='magma')\n",
    "plt.title('Total Sales by Hour')\n",
    "plt.xlabel('Hour of Day')\n",
    "plt.ylabel('Total Sales (rs)')\n",
    "plt.show()\n"
   ]
  },
  {
   "cell_type": "markdown",
   "id": "5e941fac-458e-4114-ae17-5f58fc77ab32",
   "metadata": {},
   "source": [
    "    # total revenue is 730,295.56\n",
    "July: Highest sales month, contributing 9.77% of total revenue.\n",
    "September: Strong performance, accounting for 9.67% of overall sales.\n",
    "Both months indicate key revenue drivers, potentially linked to seasonal demand or successful promotions.\n",
    "           # total sale by hours \n",
    "16 hours: Recorded the highest sales with a total of 38,455.39.\n",
    "14 hours: Followed closely with 38,323.60 in sales.\n",
    "The difference between these two hours (2-hour gap) marks a significant peak in sales  indicating these times could be optimal for customer engagement or marketing activities. Analyzing why sales are higher during these hours could help replicate this success in future strategies.\n"
   ]
  },
  {
   "cell_type": "code",
   "execution_count": null,
   "id": "f8ffa0f9-c239-4480-b157-514683a6227b",
   "metadata": {},
   "outputs": [],
   "source": [
    "#3 "
   ]
  },
  {
   "cell_type": "code",
   "execution_count": null,
   "id": "df716717-3799-40f2-a57a-033bb2825ba0",
   "metadata": {},
   "outputs": [],
   "source": [
    "import pandas as pd\n",
    "\n",
    "# Load the datasets\n",
    "customers = pd.read_csv((r\"C:\\Users\\sachu\\Downloads\\OneDrive\\Customers.csv\"))\n",
    "products = pd.read_csv(r\"C:\\Users\\sachu\\Downloads\\OneDrive\\Products.csv\")\n",
    "transactions = pd.read_csv(r\"C:\\Users\\sachu\\Downloads\\OneDrive\\Transactions.csv\")\n",
    "\n",
    "# Merge transactions with products\n",
    "transactions_products = pd.merge(transactions, products, on='ProductID', how='inner')\n",
    "\n",
    "# Merge with customers\n",
    "merged_data = pd.merge(transactions_products, customers, on='CustomerID', how='inner')\n",
    "\n",
    "# Verify merged_data\n",
    "print(merged_data.head())\n"
   ]
  },
  {
   "cell_type": "code",
   "execution_count": null,
   "id": "7d8b452b-47ac-44f3-b64b-33719b747950",
   "metadata": {},
   "outputs": [],
   "source": [
    "# Calculate total sales per customer\n",
    "customer_sales = merged_data.groupby('CustomerID')['TotalValue'].sum().reset_index()\n",
    "\n",
    "# Rename columns for clarity\n",
    "customer_sales.columns = ['CustomerID', 'TotalSales']\n"
   ]
  },
  {
   "cell_type": "code",
   "execution_count": null,
   "id": "da808a27-3d38-46bb-b2dc-7828c8c7eb52",
   "metadata": {},
   "outputs": [],
   "source": [
    "# Calculate the number of top 5% customers\n",
    "top_5_percent_count = int(0.05 * len(customer_sales))\n",
    "\n",
    "# Select the top 5% customers\n",
    "top_customers = customer_sales.head(top_5_percent_count)\n"
   ]
  },
  {
   "cell_type": "markdown",
   "id": "ae7e9e07-80a7-4eb3-9cef-afef2e985ea9",
   "metadata": {},
   "source": [
    "# Total sales contributed by top 5% customers\n",
    "top_sales_contribution = top_customers['TotalSales'].sum()\n",
    "\n",
    "# Total overall sales\n",
    "total_sales = customer_sales['TotalSales'].sum()\n",
    "\n",
    "# Calculate percentage contribution\n",
    "contribution_percentage = (top_sales_contribution / total_sales) * 1000\n",
    "\n",
    "# Print the result\n",
    "print(f\"The top 5% of customers contribute {contribution_percentage:.2f}% to total sales.\")\n"
   ]
  },
  {
   "cell_type": "code",
   "execution_count": null,
   "id": "ee9b751e-0e63-4b56-8379-b35d5b8c358e",
   "metadata": {},
   "outputs": [],
   "source": [
    "import matplotlib.pyplot as plt\n",
    "\n",
    "# Plot customer sales distribution\n",
    "plt.figure(figsize=(10, 6))\n",
    "plt.hist(customer_sales['TotalSales'], bins=50, color='skyblue', edgecolor='black')\n",
    "plt.axvline(x=top_customers['TotalSales'].min(), color='red', linestyle='--', label='Top 5% Threshold')\n",
    "plt.title('Customer Sales Distribution')\n",
    "plt.xlabel('Total Sales')\n",
    "plt.ylabel('Number of Customers')\n",
    "plt.legend()\n",
    "plt.show()\n"
   ]
  },
  {
   "cell_type": "code",
   "execution_count": null,
   "id": "6eebffcf-4f02-442d-a6e1-ccc644b9f92f",
   "metadata": {},
   "outputs": [],
   "source": [
    "# top 5% customers sales \n",
    "- **Finding**: The top 5% of customers contribute 39.58% to total sales.\n",
    "- **Recommendation**:\n",
    "  1. Design a loyalty program specifically for these customers to increase retention and reward their contributions.\n",
    "  2. Focus personalized marketing campaigns and premium offers for this group to boost revenue further.\n"
   ]
  },
  {
   "cell_type": "code",
   "execution_count": null,
   "id": "b009bded-1901-4ffd-8783-0b31e6a9775d",
   "metadata": {},
   "outputs": [],
   "source": [
    "# 4 "
   ]
  },
  {
   "cell_type": "code",
   "execution_count": null,
   "id": "4eb126d0-c9c0-4f68-89bb-782d9862ccb0",
   "metadata": {},
   "outputs": [],
   "source": [
    "# Group by ProductName to calculate total sales\n",
    "product_sales = merged_data.groupby('ProductName')['TotalValue'].sum().reset_index()\n",
    "\n",
    "# Sort by total sales in descending order and select the top 5 products\n",
    "top_5_products = product_sales.sort_values(by='TotalValue', ascending=False).head(5)\n",
    "\n",
    "# Calculate the percentage of sales for each product\n",
    "top_5_products['Percentage'] = (top_5_products['TotalValue'] / top_5_products['TotalValue'].sum()) * 100\n"
   ]
  },
  {
   "cell_type": "code",
   "execution_count": null,
   "id": "64ce8ad3-97d3-44ec-a78e-fe8ce6fe394f",
   "metadata": {},
   "outputs": [],
   "source": [
    "import matplotlib.pyplot as plt\n",
    "\n",
    "# Create labels with product names and percentages\n",
    "labels = [f\"{row['ProductName']} ({row['Percentage']:.2f}%)\" for _, row in top_5_products.iterrows()]\n",
    "\n",
    "# Create the pie chart\n",
    "plt.figure(figsize=(8, 8))\n",
    "plt.pie(\n",
    "    top_5_products['TotalValue'],\n",
    "    labels=labels,\n",
    "    autopct='%1.2f%%',\n",
    "    startangle=140,\n",
    "    colors=plt.cm.Paired.colors\n",
    ")\n",
    "\n",
    "# Add title\n",
    "plt.title(\"Top 5 Best-Selling Products - Sales Percentage\", fontsize=14)\n",
    "plt.show()\n"
   ]
  },
  {
   "cell_type": "markdown",
   "id": "2ae1c849-e7ff-4650-b193-9feaa78d25de",
   "metadata": {},
   "source": [
    "nsight: Top 5 Best-Selling Products\n",
    "ACTIVE SMARTWATCH tops the list, making up 29.67% of total sales.\n",
    "\n",
    "We should ensure enough stock and push more promotions for this product.\n",
    "Soundwave J Headphone comes in second with 18.78% sales.\n",
    "\n",
    "It's already popular, so maybe look at adding new variations or features to the line.\n",
    "Soundwave Novel adds 18.37% to sales.\n",
    "\n",
    "Pairing it with other Soundwave products might help drive more purchases.\n",
    "Active Wear Jacket brings in 16.7% of sales.\n",
    "\n",
    "Seasonal campaigns, like during winter, could work well to boost this product’s numbers.\n",
    "Active Rug makes up 16% of sales."
   ]
  },
  {
   "cell_type": "code",
   "execution_count": null,
   "id": "fcf1f36d-58a5-43c5-b842-ee16b225cc14",
   "metadata": {},
   "outputs": [],
   "source": [
    "# 5 "
   ]
  },
  {
   "cell_type": "code",
   "execution_count": null,
   "id": "78e55a2d-938a-424a-b791-45650e2d45b7",
   "metadata": {},
   "outputs": [],
   "source": [
    "# Group by product name and calculate total revenue\n",
    "product_sales = merged_data.groupby('ProductName').agg(\n",
    "    TotalRevenue=('TotalValue', 'sum')\n",
    ").sort_values(by='TotalRevenue', ascending=True)\n",
    "\n",
    "# Display the product with the least revenue\n",
    "least_revenue_product = product_sales.head(1)\n",
    "print(least_revenue_product)\n"
   ]
  },
  {
   "cell_type": "code",
   "execution_count": null,
   "id": "b389f51e-58ae-4e08-a8d7-849591f8f822",
   "metadata": {},
   "outputs": [],
   "source": [
    "import matplotlib.pyplot as plt\n",
    "import seaborn as sns\n",
    "\n",
    "# Visualization\n",
    "plt.figure(figsize=(8, 4))\n",
    "sns.barplot(\n",
    "    x=least_revenue_product['TotalRevenue'], \n",
    "    y=least_revenue_product.index, \n",
    "    palette='coolwarm'\n",
    ")\n",
    "\n",
    "# Add labels and title\n",
    "plt.title('Product Contributing the Least Revenue', fontsize=14)\n",
    "plt.xlabel('Total Revenue (rs)', fontsize=12)\n",
    "plt.ylabel('Product Name', fontsize=12)\n",
    "\n",
    "# Display the exact revenue value on the bar\n",
    "for index, value in enumerate(least_revenue_product['TotalRevenue']):\n",
    "    plt.text(value, index, f\"${value:,.2f}\", va='center', fontsize=10)\n",
    "\n",
    "plt.show()\n"
   ]
  },
  {
   "cell_type": "code",
   "execution_count": null,
   "id": "90f1bb46-58e3-4a8b-a01c-47d1cd3818b8",
   "metadata": {},
   "outputs": [],
   "source": [
    "# 5 business insights \n",
    " \n",
    "ComfortLiving Laptop has a  more less contribution in the sale 647.76\n",
    " "
   ]
  }
 ],
 "metadata": {
  "kernelspec": {
   "display_name": "Python 3 (ipykernel)",
   "language": "python",
   "name": "python3"
  },
  "language_info": {
   "codemirror_mode": {
    "name": "ipython",
    "version": 3
   },
   "file_extension": ".py",
   "mimetype": "text/x-python",
   "name": "python",
   "nbconvert_exporter": "python",
   "pygments_lexer": "ipython3",
   "version": "3.11.7"
  }
 },
 "nbformat": 4,
 "nbformat_minor": 5
}

{
 "cells": [
  {
   "cell_type": "code",
   "execution_count": 2,
   "id": "0678207b-bec6-4409-8084-24c6dca173d7",
   "metadata": {},
   "outputs": [
    {
     "name": "stdout",
     "output_type": "stream",
     "text": [
      "  CustomerID  TotalSpent  TotalQuantity  AvgTransactionValue        Regions\n",
      "0      C0001     3354.52             12              670.904  South America\n",
      "1      C0002     1862.74             10              465.685           Asia\n",
      "2      C0003     2725.38             14              681.345  South America\n",
      "3      C0004     5354.88             23              669.360  South America\n",
      "4      C0005     2034.24              7              678.080           Asia\n"
     ]
    }
   ],
   "source": [
    "# Import libraries\n",
    "import pandas as pd\n",
    "from sklearn.metrics.pairwise import cosine_similarity\n",
    "from sklearn.preprocessing import StandardScaler\n",
    "\n",
    "customers = pd.read_csv((r\"C:\\Users\\sachu\\Downloads\\OneDrive\\Customers.csv\"))\n",
    "products = pd.read_csv(r\"C:\\Users\\sachu\\Downloads\\OneDrive\\Products.csv\")\n",
    "transactions = pd.read_csv(r\"C:\\Users\\sachu\\Downloads\\OneDrive\\Transactions.csv\")\n",
    "\n",
    "# Merge transactions with products\n",
    "transactions_products = pd.merge(transactions, products, on='ProductID', how='left')\n",
    "\n",
    "# Merge with customers\n",
    "merged_data = pd.merge(transactions_products, customers, on='CustomerID', how='left')\n",
    "\n",
    "# Aggregate data to calculate customer-level purchase behavior\n",
    "customer_data = merged_data.groupby('CustomerID').agg(\n",
    "    TotalSpent=('TotalValue', 'sum'),\n",
    "    TotalQuantity=('Quantity', 'sum'),\n",
    "    AvgTransactionValue=('TotalValue', 'mean'),\n",
    "    Regions=('Region', 'first')  # Assume Region is the same for each customer\n",
    ").reset_index()\n",
    "\n",
    "print(customer_data.head())\n"
   ]
  },
  {
   "cell_type": "code",
   "execution_count": 3,
   "id": "2778affe-f1b9-4921-94b6-260d63141ad5",
   "metadata": {},
   "outputs": [
    {
     "name": "stdout",
     "output_type": "stream",
     "text": [
      "  CustomerID  TotalSpent  TotalQuantity  AvgTransactionValue  Regions_Europe  \\\n",
      "0      C0001   -0.061701      -0.122033            -0.070263           False   \n",
      "1      C0002   -0.877744      -0.448000            -0.934933           False   \n",
      "2      C0003   -0.405857       0.203934            -0.026271           False   \n",
      "3      C0004    1.032547       1.670787            -0.076769           False   \n",
      "4      C0005   -0.783929      -0.936951            -0.040028           False   \n",
      "\n",
      "   Regions_North America  Regions_South America  \n",
      "0                  False                   True  \n",
      "1                  False                  False  \n",
      "2                  False                   True  \n",
      "3                  False                   True  \n",
      "4                  False                  False  \n"
     ]
    }
   ],
   "source": [
    "# One-hot encode the 'Region' column\n",
    "customer_data = pd.get_dummies(customer_data, columns=['Regions'], drop_first=True)\n",
    "\n",
    "# Standardize numerical features\n",
    "scaler = StandardScaler()\n",
    "numerical_cols = ['TotalSpent', 'TotalQuantity', 'AvgTransactionValue']\n",
    "customer_data[numerical_cols] = scaler.fit_transform(customer_data[numerical_cols])\n",
    "\n",
    "print(customer_data.head())\n"
   ]
  },
  {
   "cell_type": "code",
   "execution_count": 4,
   "id": "d1002207-3cc5-4e82-b778-a30f8e704b6e",
   "metadata": {},
   "outputs": [
    {
     "name": "stdout",
     "output_type": "stream",
     "text": [
      "CustomerID     C0001     C0002     C0003     C0004     C0005     C0006  \\\n",
      "CustomerID                                                               \n",
      "C0001       1.000000  0.126983  0.901451  0.330662  0.133845  0.457779   \n",
      "C0002       0.126983  1.000000  0.193944 -0.528434  0.689766 -0.684003   \n",
      "C0003       0.901451  0.193944  1.000000  0.381233  0.095422  0.366739   \n",
      "C0004       0.330662 -0.528434  0.381233  1.000000 -0.879882  0.263998   \n",
      "C0005       0.133845  0.689766  0.095422 -0.879882  1.000000 -0.117982   \n",
      "\n",
      "CustomerID     C0007     C0008     C0009     C0010  ...     C0191     C0192  \\\n",
      "CustomerID                                          ...                       \n",
      "C0001       0.062142 -0.047836  0.136723  0.084226  ...  0.938920  0.718077   \n",
      "C0002       0.059228  0.041652  0.894822  0.797524  ...  0.454431  0.755641   \n",
      "C0003       0.015691  0.042653  0.092188  0.202265  ...  0.847917  0.649557   \n",
      "C0004      -0.718831  0.585021 -0.630963 -0.284865  ...  0.114885 -0.283647   \n",
      "C0005       0.754749 -0.591500  0.759720  0.421040  ...  0.348759  0.674242   \n",
      "\n",
      "CustomerID     C0193     C0194     C0195     C0196     C0197     C0198  \\\n",
      "CustomerID                                                               \n",
      "C0001       0.065717  0.001222  0.707996 -0.074055  0.094912  0.135673   \n",
      "C0002       0.145815  0.152898 -0.307400 -0.786074  0.601340  0.820598   \n",
      "C0003       0.070886 -0.025044  0.735971 -0.143216  0.138843  0.095372   \n",
      "C0004      -0.733346  0.233223  0.895768  0.079517 -0.584448 -0.724172   \n",
      "C0005       0.792194 -0.234488 -0.579551 -0.191566  0.697107  0.850446   \n",
      "\n",
      "CustomerID     C0199     C0200  \n",
      "CustomerID                      \n",
      "C0001       0.109477 -0.129713  \n",
      "C0002       0.783569 -0.983450  \n",
      "C0003       0.125906 -0.133172  \n",
      "C0004      -0.496847  0.488099  \n",
      "C0005       0.619442 -0.630449  \n",
      "\n",
      "[5 rows x 199 columns]\n"
     ]
    }
   ],
   "source": [
    "# Compute similarity scores\n",
    "customer_ids = customer_data['CustomerID']\n",
    "features = customer_data.drop(['CustomerID'], axis=1)\n",
    "similarity_matrix = cosine_similarity(features)\n",
    "\n",
    "# Create a DataFrame for similarity\n",
    "similarity_df = pd.DataFrame(similarity_matrix, index=customer_ids, columns=customer_ids)\n",
    "\n",
    "print(similarity_df.head())\n"
   ]
  },
  {
   "cell_type": "code",
   "execution_count": 8,
   "id": "4c4f4413-4a39-4472-9a9e-06c91e5bef03",
   "metadata": {},
   "outputs": [],
   "source": [
    "import pandas as pd\n",
    "from sklearn.metrics.pairwise import cosine_similarity\n",
    "from sklearn.preprocessing import StandardScaler\n",
    "\n",
    "#ad Load datasets\n",
    "customers = pd.read_csv((r\"C:\\Users\\sachu\\Downloads\\OneDrive\\Customers.csv\"))\n",
    "products = pd.read_csv(r\"C:\\Users\\sachu\\Downloads\\OneDrive\\Products.csv\")\n",
    "transactions = pd.read_csv(r\"C:\\Users\\sachu\\Downloads\\OneDrive\\Transactions.csv\")\n",
    "\n",
    "# Merge datasets to create a unified view\n",
    "transactions_products = pd.merge(transactions, products, on='ProductID', how='left')\n",
    "merged_data = pd.merge(transactions_products, customers, on='CustomerID', how='left')\n",
    "\n",
    "# Aggregate customer purchase behavior (e.g., by product category and total spent)\n",
    "customer_features = merged_data.groupby('CustomerID').agg(\n",
    "    TotalSpent=('TotalValue', 'sum'),\n",
    "    AvgSpentPerTransaction=('TotalValue', 'mean'),\n",
    "    NumTransactions=('TransactionID', 'count'),\n",
    "    NumCategories=('Category', pd.Series.nunique)\n",
    ").reset_index()\n",
    "\n",
    "# Standardize the features for similarity calculation\n",
    "scaler = StandardScaler()\n",
    "scaled_features = scaler.fit_transform(customer_features.iloc[:, 1:])\n",
    "\n",
    "# Calculate pairwise cosine similarity between customers\n",
    "similarity_matrix = cosine_similarity(scaled_features)\n",
    "\n",
    "# Find top 3 similar customers for CustomerID: C0001 - C0020\n",
    "customer_ids = customer_features['CustomerID'].tolist()\n",
    "lookalike_results = {}\n",
    "\n",
    "for idx, cust_id in enumerate(customer_ids[:20]):  # For the first 20 customers\n",
    "    # Get similarity scores for the current customer\n",
    "    similarity_scores = list(enumerate(similarity_matrix[idx]))\n",
    "    \n",
    "    # Exclude self-similarity (score with itself) and sort by similarity score\n",
    "    similarity_scores = sorted(\n",
    "        [(customer_ids[i], score) for i, score in similarity_scores if customer_ids[i] != cust_id],\n",
    "        key=lambda x: x[1], reverse=True\n",
    "    )\n",
    "    \n",
    "    # Get the top 3 most similar customers\n",
    "    lookalike_results[cust_id] = similarity_scores[:3]\n",
    "\n",
    "# Convert results into the required Lookalike.csv format\n",
    "lookalike_df = pd.DataFrame([\n",
    "    {\"CustomerID\": cust_id, \"Lookalikes\": lookalikes}\n",
    "    for cust_id, lookalikes in lookalike_results.items()\n",
    "])\n",
    "\n",
    "# Save results to CSV\n",
    "lookalike_df.to_csv('Lookalike.csv', index=False)\n"
   ]
  },
  {
   "cell_type": "code",
   "execution_count": 9,
   "id": "4dee2993-17d5-4514-a841-158849371b6f",
   "metadata": {},
   "outputs": [
    {
     "name": "stdout",
     "output_type": "stream",
     "text": [
      "   CustomerID                                         Lookalikes\n",
      "0       C0001  [('C0086', 0.9965598542786218), ('C0189', 0.99...\n",
      "1       C0002  [('C0199', 0.9982471461816442), ('C0010', 0.99...\n",
      "2       C0003  [('C0178', 0.9995885797002526), ('C0036', 0.97...\n",
      "3       C0004  [('C0101', 0.9970619994749313), ('C0156', 0.99...\n",
      "4       C0005  [('C0073', 0.9996684843099329), ('C0159', 0.99...\n",
      "5       C0006  [('C0079', 0.99998217937406), ('C0196', 0.9919...\n",
      "6       C0007  [('C0080', 0.9929249994633612), ('C0078', 0.99...\n",
      "7       C0008  [('C0109', 0.9709038923612349), ('C0147', 0.94...\n",
      "8       C0009  [('C0077', 0.9997951665967079), ('C0083', 0.99...\n",
      "9       C0010  [('C0002', 0.9979534969456437), ('C0199', 0.99...\n",
      "10      C0011  [('C0114', 0.9983696656678615), ('C0183', 0.99...\n",
      "11      C0012  [('C0155', 0.9978463141889224), ('C0065', 0.99...\n",
      "12      C0013  [('C0126', 0.9926214308944414), ('C0105', 0.99...\n",
      "13      C0014  [('C0058', 0.9964466913798511), ('C0151', 0.99...\n",
      "14      C0015  [('C0095', 0.9920322445339288), ('C0144', 0.98...\n",
      "15      C0016  [('C0183', 0.9998079946413575), ('C0064', 0.99...\n",
      "16      C0017  [('C0162', 0.9998337691353102), ('C0113', 0.99...\n",
      "17      C0018  [('C0187', 0.9998519349668346), ('C0148', 0.99...\n",
      "18      C0019  [('C0134', 0.911190214754234), ('C0038', 0.907...\n",
      "19      C0020  [('C0110', 0.9996747838249905), ('C0042', 0.99...\n"
     ]
    }
   ],
   "source": [
    "# Read and preview the generated Lookalike.csv file\n",
    "generated_df = pd.read_csv('Lookalike.csv')\n",
    "print(generated_df.head(20))  # Display the first 10 rows\n"
   ]
  },
  {
   "cell_type": "code",
   "execution_count": 10,
   "id": "26fc7248-9acf-4ab1-800b-2951e120e4c5",
   "metadata": {},
   "outputs": [
    {
     "name": "stdout",
     "output_type": "stream",
     "text": [
      "The file has been saved at: C:\\Users\\sachu\\Lookalike.csv\n"
     ]
    }
   ],
   "source": [
    "import os\n",
    "\n",
    "# Save the CSV file\n",
    "file_name = \"Lookalike.csv\"\n",
    "lookalike_df.to_csv(file_name, index=False)\n",
    "\n",
    "# Get the absolute path of the file\n",
    "file_path = os.path.abspath(file_name)\n",
    "print(f\"The file has been saved at: {file_path}\")\n"
   ]
  },
  {
   "cell_type": "code",
   "execution_count": null,
   "id": "cd11e925-cc00-4384-b5c6-1a792f4b919a",
   "metadata": {},
   "outputs": [],
   "source": []
  }
 ],
 "metadata": {
  "kernelspec": {
   "display_name": "Python 3 (ipykernel)",
   "language": "python",
   "name": "python3"
  },
  "language_info": {
   "codemirror_mode": {
    "name": "ipython",
    "version": 3
   },
   "file_extension": ".py",
   "mimetype": "text/x-python",
   "name": "python",
   "nbconvert_exporter": "python",
   "pygments_lexer": "ipython3",
   "version": "3.11.7"
  }
 },
 "nbformat": 4,
 "nbformat_minor": 5
}
